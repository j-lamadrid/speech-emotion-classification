{
 "cells": [
  {
   "cell_type": "markdown",
   "id": "1a5a1723",
   "metadata": {},
   "source": [
    "# Speech Emotion Classification Demo"
   ]
  },
  {
   "cell_type": "code",
   "execution_count": null,
   "id": "dd29ac88",
   "metadata": {},
   "outputs": [],
   "source": [
    "import utils\n",
    "import loader\n",
    "import CNNModel\n",
    "import SVMModel\n",
    "import ViTModel\n",
    "\n",
    "import torch"
   ]
  },
  {
   "cell_type": "code",
   "execution_count": null,
   "id": "b67e0fd3",
   "metadata": {},
   "outputs": [],
   "source": [
    "device = torch.device(\"cuda\" if torch.cuda.is_available() else \"cpu\")"
   ]
  },
  {
   "cell_type": "markdown",
   "id": "7f83a77c",
   "metadata": {},
   "source": [
    "## Data Preprocessing"
   ]
  },
  {
   "cell_type": "code",
   "execution_count": null,
   "id": "db9ffe50",
   "metadata": {},
   "outputs": [],
   "source": [
    "dataset, m_set, f_set = loader.load_data()"
   ]
  },
  {
   "cell_type": "code",
   "execution_count": null,
   "id": "244e75ab",
   "metadata": {},
   "outputs": [],
   "source": [
    "X_train_spec, X_test_spec, y_train_spec, y_test_spec = loader.generate_samples(dataset, 'spectrogram')"
   ]
  },
  {
   "cell_type": "code",
   "execution_count": null,
   "id": "0223b171",
   "metadata": {},
   "outputs": [],
   "source": [
    "X_train_mfcc, X_test_mfcc, y_train_mfcc, y_test_mfcc = loader.generate_samples(dataset, 'mfcc')"
   ]
  },
  {
   "cell_type": "code",
   "execution_count": null,
   "id": "341a0792",
   "metadata": {},
   "outputs": [],
   "source": [
    "X_train_sum, X_test_sum, y_train_sum, y_test_sum = loader.generate_samples(dataset, 'summary')"
   ]
  },
  {
   "cell_type": "markdown",
   "id": "4b391e83",
   "metadata": {},
   "source": [
    "## SVM"
   ]
  },
  {
   "cell_type": "code",
   "execution_count": null,
   "id": "6bc22062",
   "metadata": {},
   "outputs": [],
   "source": [
    "svm = SVMModel.SVMModel()\n",
    "svm.train(X_train_sum, y_train_sum)"
   ]
  },
  {
   "cell_type": "code",
   "execution_count": null,
   "id": "57b9ca6f",
   "metadata": {
    "scrolled": false
   },
   "outputs": [],
   "source": [
    "p_label_test, p_acc_test, p_val_test = svm.get_accuracies(X_train_sum, y_train_sum, X_test_sum, y_test_sum)"
   ]
  },
  {
   "cell_type": "markdown",
   "id": "b0c64ac8",
   "metadata": {},
   "source": [
    "## CNN"
   ]
  },
  {
   "cell_type": "markdown",
   "id": "eb4ee893",
   "metadata": {},
   "source": [
    "#### ResNet18"
   ]
  },
  {
   "cell_type": "code",
   "execution_count": null,
   "id": "b11fc99b",
   "metadata": {},
   "outputs": [],
   "source": [
    "resnet = CNNModel.CNNModel(True)\n",
    "resnet.train(X_train_mfcc, y_train_mfcc, X_test_mfcc, y_test_mfcc)"
   ]
  },
  {
   "cell_type": "code",
   "execution_count": null,
   "id": "64260235",
   "metadata": {},
   "outputs": [],
   "source": [
    "resnet.confusion_matrix(X_train_mfcc, y_train_mfcc, X_test_mfcc, y_test_mfcc)"
   ]
  },
  {
   "cell_type": "markdown",
   "id": "a0fb88e9",
   "metadata": {},
   "source": [
    "#### VGG16"
   ]
  },
  {
   "cell_type": "code",
   "execution_count": null,
   "id": "2aeaa992",
   "metadata": {},
   "outputs": [],
   "source": [
    "vgg = CNNModel.CNNModel(False)\n",
    "vgg.train(X_train_mfcc, y_train_mfcc, X_test_mfcc, y_test_mfcc)"
   ]
  },
  {
   "cell_type": "code",
   "execution_count": null,
   "id": "7071ff92",
   "metadata": {},
   "outputs": [],
   "source": [
    "vgg.confusion_matrix(X_train_mfcc, y_train_mfcc, X_test_mfcc, y_test_mfcc)"
   ]
  },
  {
   "cell_type": "markdown",
   "id": "cfabd0f3",
   "metadata": {},
   "source": [
    "## Vision Tranformer"
   ]
  },
  {
   "cell_type": "code",
   "execution_count": null,
   "id": "b4137328",
   "metadata": {},
   "outputs": [],
   "source": [
    "vit = ViTModel.ViTModel()\n",
    "vit.train(X_train_mfcc, y_train_mfcc, X_test_mfcc, y_test_mfcc)"
   ]
  },
  {
   "cell_type": "code",
   "execution_count": null,
   "id": "5a5ef1b9",
   "metadata": {},
   "outputs": [],
   "source": [
    "vit.confusion_matrix(X_train_mfcc, y_train_mfcc, X_test_mfcc, y_test_mfcc)"
   ]
  }
 ],
 "metadata": {
  "kernelspec": {
   "display_name": "Python 3 (ipykernel)",
   "language": "python",
   "name": "python3"
  },
  "language_info": {
   "codemirror_mode": {
    "name": "ipython",
    "version": 3
   },
   "file_extension": ".py",
   "mimetype": "text/x-python",
   "name": "python",
   "nbconvert_exporter": "python",
   "pygments_lexer": "ipython3",
   "version": "3.9.5"
  }
 },
 "nbformat": 4,
 "nbformat_minor": 5
}
