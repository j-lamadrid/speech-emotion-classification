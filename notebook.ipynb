{
 "cells": [
  {
   "cell_type": "markdown",
   "id": "59bb4453",
   "metadata": {},
   "source": [
    "# Emotion Analysis on Speech\n",
    "\n",
    "### Goal\n",
    "\n",
    "\"The human recognition of intended emotion for the audio-only, visual-only, and audio-visual data are 40.9%, 58.2% and 63.6% respectively. Recognition rates are highest for neutral, followed by happy, anger, disgust, fear, and sad. Average intensity levels of emotion are rated highest for visual-only perception. The accurate recognition of disgust and fear requires simultaneous audio-visual cues, while anger and happiness can be well recognized based on evidence from a single modality.\" (https://www.ncbi.nlm.nih.gov/pmc/articles/PMC4313618/)\n",
    "\n",
    "- Achieve emotion recognition above a 40.9% accuracy \n",
    "- Implement algorithm for intensity of speech as well"
   ]
  },
  {
   "cell_type": "code",
   "execution_count": 1,
   "id": "e6d1d757",
   "metadata": {},
   "outputs": [],
   "source": [
    "import opendatasets as od\n",
    "import pandas as pd\n",
    "import numpy as np\n",
    "import shutil\n",
    "import os\n",
    "from IPython.display import Audio, display\n",
    "\n",
    "from sklearn.model_selection import train_test_split\n",
    "from sklearn.metrics import confusion_matrix, ConfusionMatrixDisplay\n",
    "\n",
    "import torch\n",
    "import torch.nn as nn\n",
    "from torch import optim\n",
    "import torch.nn.functional as F\n",
    "import torchvision.transforms as T\n",
    "import torchaudio\n",
    "from torchvision import models\n",
    "\n",
    "import transformers\n",
    "\n",
    "import utils\n",
    "\n",
    "import matplotlib.pyplot as plt\n",
    "\n",
    "import warnings\n",
    "warnings.filterwarnings(\"ignore\")"
   ]
  },
  {
   "cell_type": "code",
   "execution_count": 2,
   "id": "ef43e70f",
   "metadata": {},
   "outputs": [],
   "source": [
    "device = torch.device(\"cuda\" if torch.cuda.is_available() else \"cpu\")"
   ]
  },
  {
   "cell_type": "code",
   "execution_count": 3,
   "id": "35eb884b",
   "metadata": {},
   "outputs": [
    {
     "data": {
      "text/plain": [
       "device(type='cuda')"
      ]
     },
     "execution_count": 3,
     "metadata": {},
     "output_type": "execute_result"
    }
   ],
   "source": [
    "device"
   ]
  },
  {
   "cell_type": "markdown",
   "id": "76f5bf81",
   "metadata": {},
   "source": [
    "## Data Collection and Cleaning"
   ]
  },
  {
   "cell_type": "code",
   "execution_count": 4,
   "id": "3ce2abeb",
   "metadata": {},
   "outputs": [],
   "source": [
    "# od.download('https://www.kaggle.com/datasets/dmitrybabko/speech-emotion-recognition-en')"
   ]
  },
  {
   "cell_type": "markdown",
   "id": "cbc217b3",
   "metadata": {},
   "source": [
    "#### Crema Dataset"
   ]
  },
  {
   "cell_type": "code",
   "execution_count": 5,
   "id": "2bd0ce1a",
   "metadata": {},
   "outputs": [],
   "source": [
    "emotion_dict = {'HAP': 0,\n",
    "                'NEU': 1,\n",
    "                'SAD': 2,\n",
    "                'DIS': 3,\n",
    "                'ANG': 4,\n",
    "                'FEA': 5}\n",
    "\n",
    "int_dict = {'XX': 0,\n",
    "            'X': 0,\n",
    "            'LO': 1,\n",
    "            'MD': 2,\n",
    "            'HI': 3}"
   ]
  },
  {
   "cell_type": "code",
   "execution_count": 6,
   "id": "4fa33082",
   "metadata": {},
   "outputs": [],
   "source": [
    "demo_df = pd.read_csv('speech-emotion-recognition-en/VideoDemographics.csv').set_index('ActorID')"
   ]
  },
  {
   "cell_type": "code",
   "execution_count": 7,
   "id": "07b6e4f0",
   "metadata": {},
   "outputs": [],
   "source": [
    "crema_fp = 'speech-emotion-recognition-en/Crema'\n",
    "crema_lst = [f for f in os.listdir(crema_fp)]\n",
    "\n",
    "dataset = {}\n",
    "dataset['file'] = crema_lst\n",
    "dataset['label'] = [emotion_dict[f.split('_')[2]] for f in crema_lst]\n",
    "dataset['intensity'] = [int_dict[f.replace('.wav', '').split('_')[-1]] for f in crema_lst]\n",
    "dataset['sex'] = [demo_df.loc[int(f.split('_')[0])]['Sex'] for f in crema_lst]\n",
    "dataset['waveform'] = [torchaudio.load(crema_fp + '/' + f)[0] for f in crema_lst]\n",
    "dataset['spectrogram'] = [utils.load_spec(crema_fp + '/' + f)[0] for f in crema_lst]\n",
    "dataset['prediction'] = [float('nan')] * len(crema_lst)"
   ]
  },
  {
   "cell_type": "code",
   "execution_count": 9,
   "id": "eb945ad5",
   "metadata": {
    "scrolled": true
   },
   "outputs": [],
   "source": [
    "dataset['waveform'] = [F.pad(w, (0, 100000-w.size()[1])) for w in dataset['waveform']]\n",
    "\n",
    "dataset['mfcc'] = [torch.unsqueeze(torch.unsqueeze(torchaudio.compliance.kaldi.mfcc(w, num_ceps=40, num_mel_bins=60), 0), 0) for w in dataset['waveform']]\n",
    "\n",
    "dataset['mfcc_sum_freq'] = [torch.tensor(np.mean(m[0][0].numpy(), axis=1)) for m in dataset['mfcc']]\n",
    "\n",
    "dataset['mfcc_sum_time'] = [torch.tensor(np.mean(m[0][0].numpy(), axis=0)) for m in dataset['mfcc']]\n",
    "\n",
    "dataset['summary'] = [torch.cat((dataset['mfcc_sum_freq'][i], dataset['mfcc_sum_time'][i]), 0) for i in range(len(crema_lst))]"
   ]
  },
  {
   "cell_type": "code",
   "execution_count": 10,
   "id": "32cc02ce",
   "metadata": {},
   "outputs": [],
   "source": [
    "m_idx = np.where(np.array(dataset['sex']) == 'Male')[0].astype(int)\n",
    "f_idx = np.where(np.array(dataset['sex']) == 'Female')[0].astype(int)\n",
    "\n",
    "m_set = {}\n",
    "f_set = {}\n",
    "\n",
    "for k, v in dataset.items():\n",
    "    m_set[k] = list(np.array(dataset[k])[m_idx])\n",
    "    \n",
    "for k, v in dataset.items():\n",
    "    f_set[k] = list(np.array(dataset[k])[f_idx])"
   ]
  },
  {
   "cell_type": "code",
   "execution_count": 11,
   "id": "93f22ece",
   "metadata": {
    "scrolled": true
   },
   "outputs": [
    {
     "name": "stdout",
     "output_type": "stream",
     "text": [
      "Full Dataset Length: 7442\n",
      " \n",
      "Male Only Dataset Length: 3930\n",
      "Female Only Dataset Length: 3512\n"
     ]
    }
   ],
   "source": [
    "print('Full Dataset Length: ' + str(len(dataset['spectrogram'])))\n",
    "print(' ')\n",
    "print('Male Only Dataset Length: ' + str(len(m_set['spectrogram'])))\n",
    "print('Female Only Dataset Length: ' + str(len(f_set['spectrogram'])))"
   ]
  },
  {
   "cell_type": "markdown",
   "id": "9053c778",
   "metadata": {},
   "source": [
    "## Training + Testing"
   ]
  },
  {
   "cell_type": "code",
   "execution_count": 26,
   "id": "f49f3ea4",
   "metadata": {},
   "outputs": [],
   "source": [
    "def generate_samples(dic, variable, train=0.8, test=0.2):\n",
    "    stop = False\n",
    "    while not stop:\n",
    "        X_train, X_test, y_train, y_test = train_test_split(dic[variable], dic['label'], train_size=train, test_size=test)\n",
    "        if (len(np.unique(y_train)) == 6) and (len(np.unique(y_test)) == 6):\n",
    "            stop = True\n",
    "    return X_train, X_test, y_train, y_test"
   ]
  },
  {
   "cell_type": "code",
   "execution_count": 27,
   "id": "25d60284",
   "metadata": {},
   "outputs": [],
   "source": [
    "X_train_spec, X_test_spec, y_train_spec, y_test_spec = generate_samples(dataset, 'spectrogram', 0.4, 0.1)"
   ]
  },
  {
   "cell_type": "code",
   "execution_count": 118,
   "id": "385f2861",
   "metadata": {},
   "outputs": [],
   "source": [
    "X_train_mfcc, X_test_mfcc, y_train_mfcc, y_test_mfcc = generate_samples(dataset, 'mfcc')"
   ]
  },
  {
   "cell_type": "code",
   "execution_count": 119,
   "id": "bf741e8d",
   "metadata": {},
   "outputs": [],
   "source": [
    "X_train_sum, X_test_sum, y_train_sum, y_test_sum = generate_samples(dataset, 'summary')"
   ]
  },
  {
   "cell_type": "code",
   "execution_count": 120,
   "id": "2cc15bb7",
   "metadata": {},
   "outputs": [],
   "source": [
    "def get_accuracies(model, X, y):\n",
    "    preds = []\n",
    "\n",
    "    for i in range(len(X)):\n",
    "        x = X[i].type(torch.FloatTensor).to(device)\n",
    "        scores = model(x)\n",
    "        _, out = scores.max(1)\n",
    "        preds.append(out.item())\n",
    "    \n",
    "    preds = np.array(preds)\n",
    "    labels = np.array(y)\n",
    "\n",
    "    return np.mean(preds == labels), preds"
   ]
  },
  {
   "cell_type": "markdown",
   "id": "9d1d9d7d",
   "metadata": {},
   "source": [
    "## SVM\n",
    "\n",
    "- Data\n",
    "    - Array of average level at each frequency in generated MelSpectrogram and generated MFCC"
   ]
  },
  {
   "cell_type": "code",
   "execution_count": 121,
   "id": "cace6a71",
   "metadata": {},
   "outputs": [],
   "source": [
    "from libsvm.svmutil import *"
   ]
  },
  {
   "cell_type": "code",
   "execution_count": 122,
   "id": "b8a62065",
   "metadata": {
    "scrolled": true
   },
   "outputs": [
    {
     "name": "stdout",
     "output_type": "stream",
     "text": [
      "..*.*\n",
      "optimization finished, #iter = 3783\n",
      "nu = 0.098370\n",
      "obj = -996.498787, rho = -0.213177\n",
      "nSV = 1994, nBSV = 0\n",
      "..*.*\n",
      "optimization finished, #iter = 3584\n",
      "nu = 0.098335\n",
      "obj = -935.189246, rho = -0.558064\n",
      "nSV = 1867, nBSV = 0\n",
      "..*.*\n",
      "optimization finished, #iter = 3714\n",
      "nu = 0.090437\n",
      "obj = -921.114549, rho = -0.234591\n",
      "nSV = 1964, nBSV = 0\n",
      "..*.*\n",
      "optimization finished, #iter = 3758\n",
      "nu = 0.093725\n",
      "obj = -962.720560, rho = -0.289977\n",
      "nSV = 1951, nBSV = 2\n",
      "..*.*\n",
      "optimization finished, #iter = 3315\n",
      "nu = 0.068971\n",
      "obj = -704.540999, rho = 0.209835\n",
      "nSV = 1871, nBSV = 0\n",
      "..*.*\n",
      "optimization finished, #iter = 3503\n",
      "nu = 0.095126\n",
      "obj = -896.099142, rho = -0.349973\n",
      "nSV = 1827, nBSV = 0\n",
      "..*.*\n",
      "optimization finished, #iter = 3806\n",
      "nu = 0.103645\n",
      "obj = -1046.322914, rho = -0.032190\n",
      "nSV = 2000, nBSV = 0\n",
      "..*.*\n",
      "optimization finished, #iter = 3688\n",
      "nu = 0.097132\n",
      "obj = -978.616717, rho = -0.061289\n",
      "nSV = 1935, nBSV = 0\n",
      "..*.*\n",
      "optimization finished, #iter = 3289\n",
      "nu = 0.072100\n",
      "obj = -740.020300, rho = 0.372601\n",
      "nSV = 1855, nBSV = 1\n",
      "..*.*\n",
      "optimization finished, #iter = 3390\n",
      "nu = 0.090049\n",
      "obj = -863.223683, rho = 0.378302\n",
      "nSV = 1777, nBSV = 2\n",
      "..*.*\n",
      "optimization finished, #iter = 3597\n",
      "nu = 0.102489\n",
      "obj = -969.065236, rho = 0.226935\n",
      "nSV = 1823, nBSV = 0\n",
      ".*.*\n",
      "optimization finished, #iter = 2672\n",
      "nu = 0.052744\n",
      "obj = -501.332647, rho = 0.590496\n",
      "nSV = 1529, nBSV = 0\n",
      "..*.*\n",
      "optimization finished, #iter = 3156\n",
      "nu = 0.066673\n",
      "obj = -675.404603, rho = -0.073778\n",
      "nSV = 1716, nBSV = 0\n",
      "..*.*\n",
      "optimization finished, #iter = 3679\n",
      "nu = 0.088434\n",
      "obj = -900.272109, rho = 0.450432\n",
      "nSV = 1977, nBSV = 0\n",
      ".*.*\n",
      "optimization finished, #iter = 2459\n",
      "nu = 0.041603\n",
      "obj = -422.689298, rho = 0.403541\n",
      "nSV = 1471, nBSV = 0\n",
      "Total nSV = 5941\n"
     ]
    }
   ],
   "source": [
    "svm_model = svm_train(y_train_sum, [x.numpy() for x in X_train_sum], '-t 2 -c 10')"
   ]
  },
  {
   "cell_type": "code",
   "execution_count": 123,
   "id": "2402f686",
   "metadata": {
    "scrolled": true
   },
   "outputs": [
    {
     "name": "stdout",
     "output_type": "stream",
     "text": [
      "Accuracy = 99.9496% (5950/5953) (classification)\n",
      "Accuracy = 43.1833% (643/1489) (classification)\n"
     ]
    }
   ],
   "source": [
    "svm_train = [x.flatten().cpu().real.numpy() for x in X_train_sum]\n",
    "svm_test = [x.flatten().cpu().real.numpy() for x in X_test_sum]\n",
    "\n",
    "p_label_train, p_acc_train, p_val_train = svm_predict(y_train_sum, svm_train, svm_model)\n",
    "p_label_test, p_acc_test, p_val_test = svm_predict(y_test_sum, svm_test, svm_model)"
   ]
  },
  {
   "cell_type": "markdown",
   "id": "0f388041",
   "metadata": {},
   "source": [
    "## CNN\n",
    "    \n",
    "- Data\n",
    "    - MFCC"
   ]
  },
  {
   "cell_type": "code",
   "execution_count": 124,
   "id": "94ecfd92",
   "metadata": {},
   "outputs": [],
   "source": [
    "resnet = models.resnet18(pretrained=True)\n",
    "resnet.conv1 = nn.Conv2d(1, 64, kernel_size=(7, 7), stride=(2, 2), padding=(3, 3))\n",
    "resnet.fc = nn.Linear(in_features=512, out_features=6, bias=True)"
   ]
  },
  {
   "cell_type": "code",
   "execution_count": 125,
   "id": "7302ca0e",
   "metadata": {},
   "outputs": [
    {
     "name": "stdout",
     "output_type": "stream",
     "text": [
      "Epoch 1, loss = 1.1589\n",
      "Epoch 2, loss = 0.9983\n",
      "Epoch 3, loss = 0.6712\n",
      "Epoch 4, loss = 0.3906\n",
      "Epoch 5, loss = 0.2267\n",
      "Epoch 6, loss = 0.1464\n"
     ]
    }
   ],
   "source": [
    "model = resnet.to(device)\n",
    "optimizer = optim.Adam(model.parameters(), lr=0.00001)\n",
    "\n",
    "train_accs = []\n",
    "test_accs = []\n",
    "label_ohe = F.one_hot(torch.tensor(y_train_mfcc), 6)\n",
    "for e in range(6):\n",
    "    for i in range(len(X_train_mfcc)):\n",
    "        model.train()\n",
    "        x = X_train_mfcc[i].type(torch.FloatTensor).to(device)\n",
    "        y = label_ohe[i].type(torch.FloatTensor).to(device)\n",
    "\n",
    "        scores = model(x).to(device)\n",
    "        loss = F.cross_entropy(scores[0], y)\n",
    "\n",
    "        optimizer.zero_grad()\n",
    "\n",
    "        loss.backward()\n",
    "\n",
    "        optimizer.step()\n",
    "        \n",
    "    train_accs.append(get_accuracies(model, X_train_mfcc, y_train_mfcc)[0])\n",
    "    test_accs.append(get_accuracies(model, X_test_mfcc, y_test_mfcc)[0])\n",
    "\n",
    "    print('Epoch %d, loss = %.4f' % (e + 1, loss.item()))"
   ]
  },
  {
   "cell_type": "code",
   "execution_count": 126,
   "id": "6ed54ff2",
   "metadata": {
    "scrolled": true
   },
   "outputs": [
    {
     "data": {
      "image/png": "[encoded data removed]",
      "text/plain": [
       "<Figure size 432x288 with 1 Axes>"
      ]
     },
     "metadata": {
      "needs_background": "light"
     },
     "output_type": "display_data"
    }
   ],
   "source": [
    "x_axis = np.arange(1, 7)\n",
    "\n",
    "plt.plot(x_axis, train_accs, label='Train')\n",
    "plt.plot(x_axis, test_accs, label='Test')\n",
    "\n",
    "plt.legend()\n",
    "\n",
    "plt.xlabel(\"Epoch\")\n",
    "plt.ylabel(\"Accuracy\")\n",
    "\n",
    "plt.title('ResNet18')\n",
    "\n",
    "plt.show()"
   ]
  },
  {
   "cell_type": "code",
   "execution_count": 127,
   "id": "e79273a8",
   "metadata": {},
   "outputs": [],
   "source": [
    "train_a, train_p = get_accuracies(model, X_train_mfcc, y_train_mfcc)\n",
    "test_a, test_p = get_accuracies(model, X_test_mfcc, y_test_mfcc)"
   ]
  },
  {
   "cell_type": "code",
   "execution_count": 128,
   "id": "46196fa8",
   "metadata": {},
   "outputs": [
    {
     "data": {
      "text/plain": [
       "<sklearn.metrics._plot.confusion_matrix.ConfusionMatrixDisplay at 0x7fd9d2c57df0>"
      ]
     },
     "execution_count": 128,
     "metadata": {},
     "output_type": "execute_result"
    },
    {
     "data": {
      "image/png": "[encoded data removed]",
      "text/plain": [
       "<Figure size 432x288 with 2 Axes>"
      ]
     },
     "metadata": {
      "needs_background": "light"
     },
     "output_type": "display_data"
    }
   ],
   "source": [
    "cm = confusion_matrix(y_test_mfcc, test_p)\n",
    "disp = ConfusionMatrixDisplay(confusion_matrix=cm)\n",
    "disp.plot()"
   ]
  },
  {
   "cell_type": "code",
   "execution_count": 129,
   "id": "6bafcb64",
   "metadata": {
    "scrolled": true
   },
   "outputs": [
    {
     "data": {
      "text/plain": [
       "(0.833529312951453, 0.5177971793149765)"
      ]
     },
     "execution_count": 129,
     "metadata": {},
     "output_type": "execute_result"
    }
   ],
   "source": [
    "train_a, test_a"
   ]
  },
  {
   "cell_type": "code",
   "execution_count": 130,
   "id": "d64e4a5b",
   "metadata": {},
   "outputs": [],
   "source": [
    "vgg = models.vgg16(pretrained=True)\n",
    "vgg.features[0] = nn.Conv2d(1, 64, kernel_size=(3, 3), stride=(1, 1), padding=(1, 1))\n",
    "vgg.classifier[6] = nn.Linear(in_features=4096, out_features=6, bias=True)"
   ]
  },
  {
   "cell_type": "code",
   "execution_count": 131,
   "id": "c84b2ca0",
   "metadata": {},
   "outputs": [
    {
     "name": "stdout",
     "output_type": "stream",
     "text": [
      "Epoch 1, loss = 0.6648\n",
      "Epoch 2, loss = 0.7601\n",
      "Epoch 3, loss = 0.6150\n",
      "Epoch 4, loss = 0.1405\n",
      "Epoch 5, loss = 0.0562\n",
      "Epoch 6, loss = 0.0634\n"
     ]
    }
   ],
   "source": [
    "model = vgg.to(device)\n",
    "optimizer = optim.Adam(model.parameters(), lr=0.00001)\n",
    "\n",
    "train_accs = []\n",
    "test_accs = []\n",
    "label_ohe = F.one_hot(torch.tensor(y_train_mfcc), 6)\n",
    "for e in range(6):\n",
    "    for i in range(len(X_train_mfcc)):\n",
    "        model.train()\n",
    "        x = X_train_mfcc[i].type(torch.FloatTensor).to(device)\n",
    "        y = label_ohe[i].type(torch.FloatTensor).to(device)\n",
    "\n",
    "        scores = model(x).to(device)\n",
    "        loss = F.cross_entropy(scores[0], y)\n",
    "\n",
    "        optimizer.zero_grad()\n",
    "\n",
    "        loss.backward()\n",
    "\n",
    "        optimizer.step()\n",
    "        \n",
    "    train_accs.append(get_accuracies(model, X_train_mfcc, y_train_mfcc)[0])\n",
    "    test_accs.append(get_accuracies(model, X_test_mfcc, y_test_mfcc)[0])\n",
    "\n",
    "    print('Epoch %d, loss = %.4f' % (e + 1, loss.item()))"
   ]
  },
  {
   "cell_type": "code",
   "execution_count": 132,
   "id": "0cb76738",
   "metadata": {},
   "outputs": [
    {
     "data": {
      "image/png": "[encoded data removed]",
      "text/plain": [
       "<Figure size 432x288 with 1 Axes>"
      ]
     },
     "metadata": {
      "needs_background": "light"
     },
     "output_type": "display_data"
    }
   ],
   "source": [
    "x_axis = np.arange(1, 7)\n",
    "\n",
    "plt.plot(x_axis, train_accs, label='Train')\n",
    "plt.plot(x_axis, test_accs, label='Test')\n",
    "\n",
    "plt.legend()\n",
    "\n",
    "plt.xlabel(\"Epoch\")\n",
    "plt.ylabel(\"Accuracy\")\n",
    "\n",
    "plt.title('VGG16')\n",
    "\n",
    "plt.show()"
   ]
  },
  {
   "cell_type": "code",
   "execution_count": 133,
   "id": "cdf75d97",
   "metadata": {},
   "outputs": [],
   "source": [
    "train_a, train_p = get_accuracies(model, X_train_mfcc, y_train_mfcc)\n",
    "test_a, test_p = get_accuracies(model, X_test_mfcc, y_test_mfcc)"
   ]
  },
  {
   "cell_type": "code",
   "execution_count": 134,
   "id": "9ec6e682",
   "metadata": {},
   "outputs": [
    {
     "data": {
      "text/plain": [
       "<sklearn.metrics._plot.confusion_matrix.ConfusionMatrixDisplay at 0x7fd9d2aef6d0>"
      ]
     },
     "execution_count": 134,
     "metadata": {},
     "output_type": "execute_result"
    },
    {
     "data": {
      "image/png": "[encoded data removed]",
      "text/plain": [
       "<Figure size 432x288 with 2 Axes>"
      ]
     },
     "metadata": {
      "needs_background": "light"
     },
     "output_type": "display_data"
    }
   ],
   "source": [
    "cm = confusion_matrix(y_test_mfcc, test_p)\n",
    "disp = ConfusionMatrixDisplay(confusion_matrix=cm)\n",
    "disp.plot()"
   ]
  },
  {
   "cell_type": "code",
   "execution_count": 135,
   "id": "90436a02",
   "metadata": {},
   "outputs": [
    {
     "data": {
      "text/plain": [
       "(0.7466823450361162, 0.544660846205507)"
      ]
     },
     "execution_count": 135,
     "metadata": {},
     "output_type": "execute_result"
    }
   ],
   "source": [
    "train_a, test_a"
   ]
  },
  {
   "cell_type": "markdown",
   "id": "cb6fdfd3",
   "metadata": {},
   "source": [
    "#### Transformer"
   ]
  },
  {
   "cell_type": "code",
   "execution_count": 136,
   "id": "78693070",
   "metadata": {},
   "outputs": [],
   "source": [
    "r = T.Resize((224, 224))"
   ]
  },
  {
   "cell_type": "code",
   "execution_count": 137,
   "id": "3dd93e1c",
   "metadata": {},
   "outputs": [],
   "source": [
    "vit_train = [r(s) for s in X_train_mfcc]\n",
    "vit_test = [r(s) for s in X_test_mfcc]"
   ]
  },
  {
   "cell_type": "code",
   "execution_count": 138,
   "id": "12610796",
   "metadata": {},
   "outputs": [],
   "source": [
    "vit = models.vit_b_16(pretrained=True)\n",
    "vit.conv_proj = nn.Conv2d(1, 768, kernel_size=(16, 16), stride=(16, 16))\n",
    "vit.heads.head = nn.Linear(in_features=768, out_features=6, bias=True)"
   ]
  },
  {
   "cell_type": "code",
   "execution_count": 139,
   "id": "37bfe774",
   "metadata": {},
   "outputs": [
    {
     "name": "stdout",
     "output_type": "stream",
     "text": [
      "Epoch 1, loss = 1.5575\n",
      "Epoch 2, loss = 1.5866\n",
      "Epoch 3, loss = 1.6277\n",
      "Epoch 4, loss = 1.5770\n",
      "Epoch 5, loss = 1.4011\n",
      "Epoch 6, loss = 1.1142\n"
     ]
    }
   ],
   "source": [
    "model = vit.to(device)\n",
    "optimizer = optim.Adam(model.parameters(), lr=0.00001)\n",
    "\n",
    "train_accs = []\n",
    "test_accs = []\n",
    "label_ohe = F.one_hot(torch.tensor(y_train_mfcc), 6)\n",
    "for e in range(6):\n",
    "    for i in range(len(vit_train)):\n",
    "        model.train()\n",
    "        x = vit_train[i].type(torch.FloatTensor).to(device)\n",
    "        y = label_ohe[i].type(torch.FloatTensor).to(device)\n",
    "\n",
    "        scores = model(x).to(device)\n",
    "        loss = F.cross_entropy(scores[0], y)\n",
    "\n",
    "        optimizer.zero_grad()\n",
    "\n",
    "        loss.backward()\n",
    "\n",
    "        optimizer.step()\n",
    "        \n",
    "    train_accs.append(get_accuracies(model, vit_train, y_train_mfcc)[0])\n",
    "    test_accs.append(get_accuracies(model, vit_test, y_test_mfcc)[0])\n",
    "\n",
    "    print('Epoch %d, loss = %.4f' % (e + 1, loss.item()))"
   ]
  },
  {
   "cell_type": "code",
   "execution_count": 140,
   "id": "6ebc865b",
   "metadata": {},
   "outputs": [
    {
     "data": {
      "image/png": "[encoded data removed]",
      "text/plain": [
       "<Figure size 432x288 with 1 Axes>"
      ]
     },
     "metadata": {
      "needs_background": "light"
     },
     "output_type": "display_data"
    }
   ],
   "source": [
    "x_axis = np.arange(1, 7)\n",
    "\n",
    "plt.plot(x_axis, train_accs, label='Train')\n",
    "plt.plot(x_axis, test_accs, label='Test')\n",
    "\n",
    "plt.legend()\n",
    "\n",
    "plt.xlabel(\"Epoch\")\n",
    "plt.ylabel(\"Accuracy\")\n",
    "\n",
    "plt.title('ViT')\n",
    "\n",
    "plt.show()"
   ]
  },
  {
   "cell_type": "code",
   "execution_count": 141,
   "id": "4e53dfed",
   "metadata": {},
   "outputs": [],
   "source": [
    "train_a, train_p = get_accuracies(model, vit_train, y_train_mfcc)\n",
    "test_a, test_p = get_accuracies(model, vit_test, y_test_mfcc)"
   ]
  },
  {
   "cell_type": "code",
   "execution_count": 142,
   "id": "d009c4c6",
   "metadata": {},
   "outputs": [
    {
     "data": {
      "text/plain": [
       "<sklearn.metrics._plot.confusion_matrix.ConfusionMatrixDisplay at 0x7fd9e0473430>"
      ]
     },
     "execution_count": 142,
     "metadata": {},
     "output_type": "execute_result"
    },
    {
     "data": {
      "image/png": "[encoded data removed]",
      "text/plain": [
       "<Figure size 432x288 with 2 Axes>"
      ]
     },
     "metadata": {
      "needs_background": "light"
     },
     "output_type": "display_data"
    }
   ],
   "source": [
    "cm = confusion_matrix(y_test_mfcc, test_p)\n",
    "disp = ConfusionMatrixDisplay(confusion_matrix=cm)\n",
    "disp.plot()"
   ]
  },
  {
   "cell_type": "code",
   "execution_count": 143,
   "id": "3e5bb7dd",
   "metadata": {},
   "outputs": [
    {
     "data": {
      "text/plain": [
       "(0.5131866285906266, 0.4210879785090665)"
      ]
     },
     "execution_count": 143,
     "metadata": {},
     "output_type": "execute_result"
    }
   ],
   "source": [
    "train_a, test_a"
   ]
  },
  {
   "cell_type": "code",
   "execution_count": 144,
   "id": "18fe6403",
   "metadata": {},
   "outputs": [
    {
     "data": {
      "text/plain": [
       "0.0001"
      ]
     },
     "execution_count": 144,
     "metadata": {},
     "output_type": "execute_result"
    }
   ],
   "source": [
    "1e-4"
   ]
  },
  {
   "cell_type": "code",
   "execution_count": null,
   "id": "6988db2c",
   "metadata": {},
   "outputs": [],
   "source": []
  }
 ],
 "metadata": {
  "kernelspec": {
   "display_name": "Python 3 (ipykernel)",
   "language": "python",
   "name": "python3"
  },
  "language_info": {
   "codemirror_mode": {
    "name": "ipython",
    "version": 3
   },
   "file_extension": ".py",
   "mimetype": "text/x-python",
   "name": "python",
   "nbconvert_exporter": "python",
   "pygments_lexer": "ipython3",
   "version": "3.9.5"
  }
 },
 "nbformat": 4,
 "nbformat_minor": 5
}
